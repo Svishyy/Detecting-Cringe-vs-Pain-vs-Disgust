{
 "cells": [
  {
   "cell_type": "markdown",
   "metadata": {},
   "source": [
    "### Load in Data"
   ]
  },
  {
   "cell_type": "code",
   "execution_count": 3,
   "metadata": {},
   "outputs": [],
   "source": [
    "import pandas as pd\n",
    "import glob\n",
    "\n",
    "# Get a list of all cringe csv files\n",
    "cringe_list = glob.glob('Dataset(.csv)/CringeData/*.csv')\n",
    "cringe_list_size = len(cringe_list)\n",
    "\n",
    "# Initalize dataframe which will hold mergedcsv files\n",
    "cringeDF = pd.DataFrame()\n",
    "\n",
    "# Go through list and give each file a videoID and label of 0\n",
    "for i in range(0, cringe_list_size):\n",
    "    tempDF = pd.read_csv(cringe_list[i])\n",
    "    tempDF['video_id'] = str(i) + 'c'\n",
    "    tempDF['label'] = 0\n",
    "    \n",
    "    # Merge file into cringeDF\n",
    "    cringeDF= cringeDF.append(tempDF, sort=True)\n",
    "    \n",
    "    # Reset index\n",
    "    cringeDF.reset_index()\n",
    "\n",
    "    \n",
    "# Get a list of all pain csv files\n",
    "pain_list = glob.glob('Dataset(.csv)/PainData/*.csv')\n",
    "pain_list_size = len(pain_list)\n",
    "\n",
    "# Initialize dataframe which will hold merged csv files\n",
    "painDF = pd.DataFrame()\n",
    "\n",
    "# Go through list and give each file a videoID and label of 1\n",
    "for i in range(0, pain_list_size):\n",
    "    tempDF = pd.read_csv(pain_list[i])\n",
    "    tempDF['video_id'] = str(i) + 'p'\n",
    "    tempDF['label'] = 1\n",
    "    \n",
    "    # Merge file into cringeDF\n",
    "    painDF= painDF.append(tempDF, sort=True)\n",
    "    \n",
    "    # Reset index\n",
    "    painDF.reset_index()\n",
    "            "
   ]
  },
  {
   "cell_type": "markdown",
   "metadata": {},
   "source": [
    "### Clean Data "
   ]
  },
  {
   "cell_type": "code",
   "execution_count": 4,
   "metadata": {},
   "outputs": [],
   "source": [
    "from sklearn.preprocessing import StandardScaler\n",
    "\n",
    "# Filter out unsuccessful and low confidence frames\n",
    "cringeDF = cringeDF.loc[cringeDF['confidence'] > 0.8]\n",
    "cringeDF = cringeDF.loc[cringeDF['success'] == 1]\n",
    "\n",
    "#print(pd.DataFrame(lst))\n",
    "painDF = painDF.loc[painDF['confidence'] > 0.8] \n",
    "painDF = painDF.loc[painDF['success'] == 1]\n",
    "\n",
    "# Merge all csv entries and all cols\n",
    "combinedDF = cringeDF.append(painDF, sort= True)\n",
    "combinedDF = combinedDF.reset_index()\n",
    "\n"
   ]
  },
  {
   "cell_type": "markdown",
   "metadata": {},
   "source": [
    "### View AU Intensity Differences"
   ]
  },
  {
   "cell_type": "code",
   "execution_count": 5,
   "metadata": {},
   "outputs": [
    {
     "data": {
      "text/plain": [
       "<Figure size 1125x750 with 1 Axes>"
      ]
     },
     "metadata": {},
     "output_type": "display_data"
    }
   ],
   "source": [
    "import numpy as np\n",
    "import matplotlib.pyplot as plt\n",
    "# Inspiration from https://www.youtube.com/watch?v=l11iy6SSUCY&ab_channel=SFURosieLab\n",
    "# Get the max AU intenisty per AU per video\n",
    "feature_list = ['AU01_r', 'AU02_r', 'AU04_r', 'AU05_r', 'AU06_r', 'AU07_r',\n",
    "                'AU09_r', 'AU10_r', 'AU12_r', 'AU14_r', 'AU15_r', 'AU17_r',\n",
    "                'AU20_r', 'AU23_r', 'AU25_r', 'AU26_r', 'AU45_r', 'video_id']\n",
    "\n",
    "cringeFeaturesDF = cringeDF.loc[:,feature_list]\n",
    "painFeaturesDF = painDF.loc[:,feature_list]\n",
    "\n",
    "# Get max AU intensity for each video\n",
    "cringeMaxAU = cringeFeaturesDF.groupby('video_id').max()\n",
    "painMaxAU = painFeaturesDF.groupby('video_id').max() \n",
    "\n",
    "# Total number of times the AU was above 2\n",
    "cringeAUs = (cringeMaxAU > 2).sum()\n",
    "painAUs = (painMaxAU > 2).sum()\n",
    "\n",
    "# Set our x axis \n",
    "x1 = cringeAUs.index\n",
    "\n",
    "# Get counts for each type of expression\n",
    "y1 = cringeAUs.values\n",
    "y2 = painAUs.values \n",
    "\n",
    "ind = np.arange(cringeAUs.index.size)\n",
    "width = 0.3\n",
    "# Plot figure, bars, ticks and legend\n",
    "plt.figure(num=1, figsize=(15,10),dpi=75)\n",
    "p1 = plt.bar(ind,y1, width = width, label = 'Cringe')\n",
    "plt.xticks(rotation = 90)\n",
    "p2 = plt.bar(ind+width,y2, width = width, label = 'Pain')\n",
    "plt.ylabel('Count')\n",
    "plt.title('Action Unit Occurrence')\n",
    "plt.xticks(ind + width / 2, x1)\n",
    "plt.legend(loc='best')\n",
    "plt.show()\n"
   ]
  },
  {
   "cell_type": "markdown",
   "metadata": {},
   "source": [
    "### Group by Frames and Split Data"
   ]
  },
  {
   "cell_type": "code",
   "execution_count": 7,
   "metadata": {},
   "outputs": [
    {
     "name": "stdout",
     "output_type": "stream",
     "text": [
      "[0. 0. 0. 0. 0. 0. 0. 0. 0. 0. 0. 0. 0. 0. 0. 0. 0. 0. 0. 0. 0. 0. 0. 0.\n",
      " 0. 0. 0. 0. 0. 0. 0. 0. 0. 0. 0. 0. 0. 0. 0. 0. 0. 0. 0. 0. 0. 0. 0. 0.\n",
      " 0. 0. 0. 0. 0. 0. 0. 0. 0. 0. 0. 0. 0. 0. 0. 0. 0. 0. 0. 0. 0. 0. 0. 0.\n",
      " 0. 0. 0. 0. 0. 0. 0. 1. 1. 1. 1. 1. 1. 1. 1. 1. 1. 1. 1. 1. 1. 1. 1. 1.\n",
      " 1. 1. 1. 1. 1. 1. 1. 1. 1. 1. 1. 1. 1. 1. 1. 1. 1. 1. 1. 1. 1. 1. 1. 1.\n",
      " 1. 1. 1. 1. 1. 1. 1. 1. 1. 1. 1. 1. 1. 1. 1. 1. 1. 1. 1. 1. 1. 1. 1. 1.\n",
      " 1. 1. 1. 1. 1. 1. 1. 1. 1. 1. 1. 1. 1. 1. 1. 1. 1. 1. 1. 1. 1. 1. 1.]\n"
     ]
    }
   ],
   "source": [
    "from sklearn.model_selection import train_test_split\n",
    "\n",
    "# Only select AU intensities\n",
    "important_features = ['AU01_r', 'AU02_r', 'AU04_r', 'AU05_r', 'AU06_r', 'AU07_r',\n",
    "                      'AU09_r', 'AU10_r', 'AU12_r', 'AU14_r', 'AU15_r', 'AU17_r',\n",
    "                      'AU20_r', 'AU23_r', 'AU25_r', 'AU26_r', 'AU45_r']\n",
    "\n",
    "cringeAU_DF = cringeDF.loc[:,important_features]\n",
    "painAU_DF = painDF.loc[:,important_features]\n",
    "\n",
    "# Get video ID separately\n",
    "cringe_videos = cringeDF['video_id']\n",
    "cringe_videos_list = cringe_videos.to_numpy()\n",
    "\n",
    "pain_videos = painDF['video_id']\n",
    "pain_videos_list = pain_videos.to_numpy()\n",
    "\n",
    "\n",
    "# Standardize data\n",
    "standardScaler = StandardScaler()\n",
    "\n",
    "cringeFeaturesDF = standardScaler.fit_transform(cringeAU_DF)\n",
    "cringeFeaturesDF = pd.DataFrame(cringeFeaturesDF)\n",
    "cringeFeaturesDF['video_id'] = cringe_videos_list\n",
    "\n",
    "\n",
    "painFeaturesDF = standardScaler.fit_transform(painAU_DF)\n",
    "painFeaturesDF = pd.DataFrame(painFeaturesDF)\n",
    "painFeaturesDF['video_id']= pain_videos_list\n",
    "\n",
    "\n",
    "# Group Frames\n",
    "cringeFeaturesList = []\n",
    "\n",
    "for video in cringeFeaturesDF['video_id'].unique():\n",
    "    \n",
    "    frame_length = len(cringeFeaturesDF[cringeFeaturesDF['video_id'] == video].drop(['video_id'], axis=1).to_numpy())\n",
    "    \n",
    "    # Add a copy of the first frame in case frames are less than 30\n",
    "    if(frame_length < 30):\n",
    "        first_result = cringeFeaturesDF[cringeFeaturesDF['video_id'] == video].head(1)\n",
    "        difference = 30 - frame_length\n",
    "        for i in range(difference+1):\n",
    "            cringeFeaturesDF = cringeFeaturesDF.append(first_result)\n",
    "    \n",
    "    cringeFeaturesList.append(cringeFeaturesDF[cringeFeaturesDF['video_id'] == video].drop(['video_id'], axis=1).to_numpy())\n",
    "    \n",
    "            \n",
    "cringeFeaturesList = np.array(cringeFeaturesList)\n",
    "\n",
    "painFeaturesList = []\n",
    "\n",
    "for video in painFeaturesDF['video_id'].unique():\n",
    "    frame_length = len(painFeaturesDF[painFeaturesDF['video_id'] == video].to_numpy())\n",
    "    \n",
    "    # Add a copy of the first frame in case frames are less than 30\n",
    "    if(frame_length < 30):\n",
    "        first_result = painFeaturesDF[painFeaturesDF['video_id'] == video].head(1)\n",
    "        difference = 30 - frame_length\n",
    "        for i in range(difference+1):\n",
    "            painFeaturesDF = painFeaturesDF.append(first_result)\n",
    "    \n",
    "    painFeaturesList.append(painFeaturesDF[painFeaturesDF['video_id'] == video].drop(['video_id'], axis=1).to_numpy())\n",
    "\n",
    "painFeaturesList = np.array(painFeaturesList)\n",
    "\n",
    "# Combine the data\n",
    "X = np.concatenate([cringeFeaturesList, painFeaturesList])\n",
    "\n",
    "y = np.concatenate([np.zeros(cringeFeaturesList.shape[0]), np.ones(painFeaturesList.shape[0])])\n",
    "print(y)\n",
    "# Split into train and test data\n",
    "X_train, X_test, train_labels, test_labels = train_test_split(X, y, test_size = 0.2)\n",
    "\n",
    "# Make the length of each frame the same to 30 frames\n",
    "# 60 was chosen based off of calculating average length of frames\n",
    "for i in range(len(X_train)):\n",
    "    if(len(X_train[i]) > 30):\n",
    "        X_train[i] = X_train[i][0:30]\n",
    "        \n",
    "for i in range(len(X_test)):\n",
    "    if(len(X_test[i]) > 30):\n",
    "        X_test[i] = X_test[i][0:30]\n",
    "        \n",
    "# Reshape\n",
    "X_train = X_train.tolist()\n",
    "X_test = X_test.tolist()\n",
    "\n",
    "X_train = np.array(X_train)\n",
    "X_test = np.array(X_test)\n",
    "\n",
    "train_samples, xlen, ylen = X_train.shape\n",
    "X_train = X_train.reshape((train_samples,xlen*ylen))\n",
    "\n",
    "test_samples, xt, yt = X_test.shape\n",
    "X_test = X_test.reshape((test_samples,xt*yt))\n",
    "    "
   ]
  },
  {
   "cell_type": "markdown",
   "metadata": {},
   "source": [
    "### Use PCA for Visualization"
   ]
  },
  {
   "cell_type": "code",
   "execution_count": 8,
   "metadata": {},
   "outputs": [
    {
     "name": "stdout",
     "output_type": "stream",
     "text": [
      "The explained variance of two components:  [0.1900674  0.07996248]\n"
     ]
    },
    {
     "data": {
      "text/html": [
       "<div>\n",
       "<style scoped>\n",
       "    .dataframe tbody tr th:only-of-type {\n",
       "        vertical-align: middle;\n",
       "    }\n",
       "\n",
       "    .dataframe tbody tr th {\n",
       "        vertical-align: top;\n",
       "    }\n",
       "\n",
       "    .dataframe thead th {\n",
       "        text-align: right;\n",
       "    }\n",
       "</style>\n",
       "<table border=\"1\" class=\"dataframe\">\n",
       "  <thead>\n",
       "    <tr style=\"text-align: right;\">\n",
       "      <th></th>\n",
       "      <th>principal component 1</th>\n",
       "      <th>principal component 2</th>\n",
       "    </tr>\n",
       "  </thead>\n",
       "  <tbody>\n",
       "    <tr>\n",
       "      <td>0</td>\n",
       "      <td>-9.167251</td>\n",
       "      <td>-0.819452</td>\n",
       "    </tr>\n",
       "    <tr>\n",
       "      <td>1</td>\n",
       "      <td>-0.243985</td>\n",
       "      <td>-1.813370</td>\n",
       "    </tr>\n",
       "    <tr>\n",
       "      <td>2</td>\n",
       "      <td>4.906958</td>\n",
       "      <td>-7.469457</td>\n",
       "    </tr>\n",
       "    <tr>\n",
       "      <td>3</td>\n",
       "      <td>-12.052184</td>\n",
       "      <td>-3.446275</td>\n",
       "    </tr>\n",
       "    <tr>\n",
       "      <td>4</td>\n",
       "      <td>5.514724</td>\n",
       "      <td>-7.706832</td>\n",
       "    </tr>\n",
       "    <tr>\n",
       "      <td>...</td>\n",
       "      <td>...</td>\n",
       "      <td>...</td>\n",
       "    </tr>\n",
       "    <tr>\n",
       "      <td>128</td>\n",
       "      <td>-18.556231</td>\n",
       "      <td>-2.893678</td>\n",
       "    </tr>\n",
       "    <tr>\n",
       "      <td>129</td>\n",
       "      <td>-12.989927</td>\n",
       "      <td>-1.570322</td>\n",
       "    </tr>\n",
       "    <tr>\n",
       "      <td>130</td>\n",
       "      <td>-14.924081</td>\n",
       "      <td>-4.707581</td>\n",
       "    </tr>\n",
       "    <tr>\n",
       "      <td>131</td>\n",
       "      <td>-3.541514</td>\n",
       "      <td>3.579595</td>\n",
       "    </tr>\n",
       "    <tr>\n",
       "      <td>132</td>\n",
       "      <td>-3.720022</td>\n",
       "      <td>2.853138</td>\n",
       "    </tr>\n",
       "  </tbody>\n",
       "</table>\n",
       "<p>133 rows × 2 columns</p>\n",
       "</div>"
      ],
      "text/plain": [
       "     principal component 1  principal component 2\n",
       "0                -9.167251              -0.819452\n",
       "1                -0.243985              -1.813370\n",
       "2                 4.906958              -7.469457\n",
       "3               -12.052184              -3.446275\n",
       "4                 5.514724              -7.706832\n",
       "..                     ...                    ...\n",
       "128             -18.556231              -2.893678\n",
       "129             -12.989927              -1.570322\n",
       "130             -14.924081              -4.707581\n",
       "131              -3.541514               3.579595\n",
       "132              -3.720022               2.853138\n",
       "\n",
       "[133 rows x 2 columns]"
      ]
     },
     "execution_count": 8,
     "metadata": {},
     "output_type": "execute_result"
    }
   ],
   "source": [
    "from sklearn.decomposition import PCA\n",
    "\n",
    "# Initialize PCA and choose number of components to keep\n",
    "pca = PCA(n_components=2)\n",
    "\n",
    "# Conduct PCA to reduce to two components\n",
    "reducedDimensions = pca.fit_transform(X_train)\n",
    "\n",
    "print(\"The explained variance of two components: \", pca.explained_variance_ratio_) \n",
    "\n",
    "# Create a df of the two components\n",
    "pcaDF = pd.DataFrame(data = reducedDimensions, columns = ['principal component 1', 'principal component 2'])\n",
    "pcaDF"
   ]
  },
  {
   "cell_type": "markdown",
   "metadata": {},
   "source": [
    "### GMM Covariance Selection"
   ]
  },
  {
   "cell_type": "code",
   "execution_count": 9,
   "metadata": {},
   "outputs": [
    {
     "name": "stdout",
     "output_type": "stream",
     "text": [
      "The best covariance for k=2 is: spherical\n"
     ]
    }
   ],
   "source": [
    "# Using scikit-learn code from: \n",
    "# https://scikit-learn.org/stable/auto_examples/mixture/plot_gmm_selection.html#sphx-glr-auto-examples-mixture-plot-gmm-selection-py\n",
    "\n",
    "from sklearn import mixture\n",
    "\n",
    "X = pcaDF\n",
    "lowest_bic = np.infty\n",
    "bic = []\n",
    "cv_types = [\"spherical\", \"tied\", \"diag\", \"full\"]\n",
    "for cv_type in cv_types:\n",
    "    # Fit a Gaussian mixture with EM\n",
    "    gmm = mixture.GaussianMixture(\n",
    "        n_components=2, covariance_type=cv_type\n",
    "    )\n",
    "    gmm.fit(X)\n",
    "    bic.append(gmm.bic(X))\n",
    "    if bic[-1] < lowest_bic:\n",
    "        lowest_bic = bic[-1]\n",
    "        best_gmm = cv_type\n",
    "        \n",
    "print(\"The best covariance for k=2 is:\",best_gmm)\n"
   ]
  },
  {
   "cell_type": "markdown",
   "metadata": {},
   "source": [
    "### GMM Clustering Visualization"
   ]
  },
  {
   "cell_type": "code",
   "execution_count": 10,
   "metadata": {},
   "outputs": [
    {
     "data": {
      "text/plain": [
       "<matplotlib.collections.PathCollection at 0x7f9380a78110>"
      ]
     },
     "execution_count": 10,
     "metadata": {},
     "output_type": "execute_result"
    },
    {
     "data": {
      "image/png": "[encoded data removed]",
      "text/plain": [
       "<Figure size 720x360 with 1 Axes>"
      ]
     },
     "metadata": {
      "needs_background": "light"
     },
     "output_type": "display_data"
    }
   ],
   "source": [
    "gmm = mixture.GaussianMixture(\n",
    "        n_components=2, covariance_type=\"spherical\"\n",
    "    )\n",
    "gmm.fit(X)\n",
    "labels = gmm.predict(X)\n",
    "\n",
    "#filter rows of original data (https://www.askpython.com/python/examples/plot-k-means-clusters-python)\n",
    "filtered_label0 = pcaDF[labels == 0]\n",
    "filtered_label1 = pcaDF[labels == 1]\n",
    "\n",
    "#Plotting the results (https://www.askpython.com/python/examples/plot-k-means-clusters-python)\n",
    "plt.figure(figsize=(10, 5))\n",
    "plt.scatter(filtered_label0['principal component 1'] , filtered_label0['principal component 2'], color = 'red')\n",
    "plt.scatter(filtered_label1['principal component 1'] , filtered_label1['principal component 2'] , color = 'blue')\n"
   ]
  },
  {
   "cell_type": "markdown",
   "metadata": {},
   "source": [
    "### SVM Cross-Validation"
   ]
  },
  {
   "cell_type": "code",
   "execution_count": 11,
   "metadata": {},
   "outputs": [],
   "source": [
    "from sklearn import svm\n",
    "from sklearn import metrics\n",
    "from sklearn.model_selection import StratifiedKFold\n",
    "import sys\n",
    "\n",
    "# Initialize arrays to keep track of performance\n",
    "svm_accuracy = []\n",
    "svm_recall = []\n",
    "svm_precision = []\n",
    "svm_f1scores = []\n",
    "svm_confusion_matrices = []\n",
    "\n",
    "kfold = StratifiedKFold(5, True, 1)\n",
    "\n",
    "# Conduct 5-fold cross-validation\n",
    "for train_index, test_index in kfold.split(X_train, train_labels):\n",
    "    # Reset model \n",
    "    # kernel, C and gamma were chosen based on accuracy trial and error \n",
    "    model = svm.SVC(C=10, kernel='rbf', decision_function_shape='ovo', gamma='auto') \n",
    "    \n",
    "    # Get training data and test data\n",
    "    train_data, test_data = X_train[train_index], X_train[test_index]\n",
    "    \n",
    "    # Source ground truth labels\n",
    "    actual_train_labels = train_labels[train_index]\n",
    "    actual_test_labels = train_labels[test_index]\n",
    "    np.set_printoptions(threshold=sys.maxsize)\n",
    "\n",
    "    # Fit and predict\n",
    "    model.fit(train_data.tolist(), actual_train_labels)\n",
    "    svm_labels = model.predict(test_data)\n",
    "    \n",
    "    # Calculate accuracy, recall, precision, and f1 scores\n",
    "    svm_accuracy_score = metrics.accuracy_score(actual_test_labels, svm_labels)\n",
    "    svm_recall_score = metrics.recall_score(actual_test_labels, svm_labels, average=\"macro\")\n",
    "    svm_precision_score = metrics.precision_score(actual_test_labels, svm_labels, average=\"macro\")\n",
    "    svm_f1_score = metrics.f1_score(actual_test_labels, svm_labels, average=\"macro\")\n",
    "    \n",
    "    # Store the results in respective arrays\n",
    "    svm_accuracy.append(svm_accuracy_score)\n",
    "    svm_recall.append(svm_recall_score)\n",
    "    svm_precision.append(svm_precision_score)\n",
    "    svm_f1scores.append(svm_f1_score)\n",
    "    svm_confusion_matrices.append(np.asarray(metrics.confusion_matrix(actual_test_labels, svm_labels)))"
   ]
  },
  {
   "cell_type": "markdown",
   "metadata": {},
   "source": [
    "### Performance of Cross-Validation"
   ]
  },
  {
   "cell_type": "code",
   "execution_count": 12,
   "metadata": {},
   "outputs": [
    {
     "name": "stdout",
     "output_type": "stream",
     "text": [
      "The average accuracy score is:  0.5789173789173789\n",
      "The average recall score is:  0.5780219780219781\n",
      "The average precision score is:  0.5759816572316573\n",
      "The average f1 score is:  0.5730715926844959\n"
     ]
    },
    {
     "data": {
      "image/png": "[encoded data removed]",
      "text/plain": [
       "<Figure size 1080x1080 with 2 Axes>"
      ]
     },
     "metadata": {},
     "output_type": "display_data"
    }
   ],
   "source": [
    "# https://seaborn.pydata.org/#:~:text=Seaborn%20is%20a%20Python%20data,introductory%20notes%20or%20the%20paper.\n",
    "# https://docs.python.org/3/library/statistics.html\n",
    "# https://matplotlib.org/\n",
    "import statistics\n",
    "import seaborn as sns\n",
    "import matplotlib.pyplot as plt\n",
    "\n",
    "# Calculate average scores \n",
    "average_svm_accuracy = statistics.mean(svm_accuracy)\n",
    "average_svm_recall = statistics.mean(svm_recall)\n",
    "average_svm_precision = statistics.mean(svm_precision)\n",
    "average_svm_f1 = statistics.mean(svm_f1scores)\n",
    "\n",
    "# Output average scores\n",
    "print(\"The average accuracy score is: \", average_svm_accuracy)\n",
    "print(\"The average recall score is: \", average_svm_recall)\n",
    "print(\"The average precision score is: \", average_svm_precision)\n",
    "print(\"The average f1 score is: \", average_svm_f1)\n",
    "\n",
    "# Initialize a 7x7 2D array for getting CM average\n",
    "summed_svm_cm = np.zeros(4).reshape(2,2)\n",
    "\n",
    "# Sum values of matrix for getting CM average\n",
    "for matrix in svm_confusion_matrices: \n",
    "    summed_svm_cm = np.add(summed_svm_cm, matrix)\n",
    "\n",
    "average_svm_cm = np.divide(summed_svm_cm, 5) \n",
    "matrix_labels = [\"Cringe\", \"Pain\"]\n",
    "\n",
    "# Code below used from https://www.stackvidhya.com/plot-confusion-matrix-in-python-and-why/#:~:text=import%20seaborn%20as%20sns%0Aimport,the%20Confusion%20Matrix.%0Aplt.show()\n",
    "sns.set(rc = {'figure.figsize':(15,15)})\n",
    "ax = sns.heatmap(average_svm_cm, fmt=\"f\", annot=True, cmap='Blues')\n",
    "\n",
    "ax.set_title('SVM Average Confusion Matrix\\n\\n');\n",
    "ax.set_xlabel('\\nPredicted Emotion')\n",
    "ax.set_ylabel('Actual Emotion');\n",
    "\n",
    "## Ticket labels - List must be in alphabetical order\n",
    "ax.xaxis.set_ticklabels(matrix_labels)\n",
    "ax.yaxis.set_ticklabels(matrix_labels)\n",
    "\n",
    "# fix for mpl bug that cuts off top/bottom of seaborn viz https://github.com/mwaskom/seaborn/issues/1773\n",
    "b, t = plt.ylim() # discover the values for bottom and top\n",
    "b += 0.5 # Add 0.5 to the bottom\n",
    "t -= 0.5 # Subtract 0.5 from the top\n",
    "plt.ylim(b, t) # update the ylim(bottom, top) values\n",
    "## Display the visualization of the Confusion Matrix.\n",
    "plt.show()"
   ]
  },
  {
   "cell_type": "markdown",
   "metadata": {},
   "source": [
    "### Test Performance"
   ]
  },
  {
   "cell_type": "code",
   "execution_count": 13,
   "metadata": {},
   "outputs": [
    {
     "name": "stdout",
     "output_type": "stream",
     "text": [
      "The accuracy score is:  0.6176470588235294\n",
      "The recall score is:  0.6462450592885376\n",
      "The precision score is:  0.6284722222222222\n",
      "The F1 score is:  0.6091954022988506\n"
     ]
    },
    {
     "data": {
      "image/png": "[encoded data removed]",
      "text/plain": [
       "<Figure size 1080x1080 with 2 Axes>"
      ]
     },
     "metadata": {},
     "output_type": "display_data"
    }
   ],
   "source": [
    "# Performance on Test Data\n",
    "model = svm.SVC(C=10, kernel='rbf', decision_function_shape='ovo', gamma='auto')\n",
    "\n",
    "model.fit(X_train, train_labels)\n",
    "results = model.predict(X_test)\n",
    "\n",
    "test_accuracy = metrics.accuracy_score(test_labels, results)\n",
    "test_recall = metrics.recall_score(test_labels, results, average=\"macro\")\n",
    "test_precision = metrics.precision_score(test_labels, results, average=\"macro\")\n",
    "test_f1score =  metrics.f1_score(test_labels, results, average=\"macro\")\n",
    "test_confusion = metrics.confusion_matrix(test_labels, results)\n",
    "\n",
    "print(\"The accuracy score is: \", test_accuracy)\n",
    "print(\"The recall score is: \", test_recall)\n",
    "print(\"The precision score is: \", test_precision)\n",
    "print(\"The F1 score is: \", test_f1score)\n",
    "# Code below used from https://www.stackvidhya.com/plot-confusion-matrix-in-python-and-why/#:~:text=import%20seaborn%20as%20sns%0Aimport,the%20Confusion%20Matrix.%0Aplt.show()\n",
    "sns.set(rc = {'figure.figsize':(15,15)})\n",
    "ax = sns.heatmap(test_confusion, fmt=\"f\", annot=True, cmap='Blues')\n",
    "\n",
    "ax.set_title('SVM Test Confusion Matrix\\n\\n');\n",
    "ax.set_xlabel('\\nPredicted Emotion')\n",
    "ax.set_ylabel('Actual Emotion');\n",
    "\n",
    "## Ticket labels - List must be in alphabetical order\n",
    "ax.xaxis.set_ticklabels(matrix_labels)\n",
    "ax.yaxis.set_ticklabels(matrix_labels)\n",
    "\n",
    "# fix for mpl bug that cuts off top/bottom of seaborn viz https://github.com/mwaskom/seaborn/issues/1773\n",
    "b, t = plt.ylim() # discover the values for bottom and top\n",
    "b += 0.5 # Add 0.5 to the bottom\n",
    "t -= 0.5 # Subtract 0.5 from the top\n",
    "plt.ylim(b, t) # update the ylim(bottom, top) values\n",
    "## Display the visualization of the Confusion Matrix.\n",
    "plt.show()"
   ]
  },
  {
   "cell_type": "code",
   "execution_count": null,
   "metadata": {},
   "outputs": [],
   "source": []
  }
 ],
 "metadata": {
  "kernelspec": {
   "display_name": "Python 3",
   "language": "python",
   "name": "python3"
  },
  "language_info": {
   "codemirror_mode": {
    "name": "ipython",
    "version": 3
   },
   "file_extension": ".py",
   "mimetype": "text/x-python",
   "name": "python",
   "nbconvert_exporter": "python",
   "pygments_lexer": "ipython3",
   "version": "3.7.4"
  }
 },
 "nbformat": 4,
 "nbformat_minor": 2
}
